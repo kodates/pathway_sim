{
  "nbformat": 4,
  "nbformat_minor": 0,
  "metadata": {
    "colab": {
      "provenance": []
    },
    "kernelspec": {
      "name": "ir",
      "display_name": "R"
    },
    "language_info": {
      "name": "R"
    }
  },
  "cells": [
    {
      "cell_type": "code",
      "execution_count": 1,
      "metadata": {
        "id": "39Ues85-8ryS",
        "outputId": "815a510f-ff10-4846-ad55-891a1c7ae922",
        "colab": {
          "base_uri": "https://localhost:8080/"
        }
      },
      "outputs": [
        {
          "output_type": "stream",
          "name": "stderr",
          "text": [
            "Warning message in cor.test.default(simu_percent_change, mgwas_beta_change, method = \"kendall\"):\n",
            "“Cannot compute exact p-value with ties”\n"
          ]
        },
        {
          "output_type": "stream",
          "name": "stdout",
          "text": [
            "\n",
            "\tKendall's rank correlation tau\n",
            "\n",
            "data:  simu_percent_change and mgwas_beta_change\n",
            "z = 2.0494, p-value = 0.04042\n",
            "alternative hypothesis: true tau is not equal to 0\n",
            "sample estimates:\n",
            "      tau \n",
            "0.7745967 \n",
            "\n"
          ]
        }
      ],
      "source": [
        "# simulation, mgwas results\n",
        "simu_percent_change <- as.numeric(c(\"-14.7\",\"16.3\",\"-1.24\",\"0.26\",\"-2.07\",\"22.8\",\"18.4\",\"-0.86\",\"0.868\",\"4.05\",\"-0.627\",\"-0.0801\",\"-0.644\",\"-0.839\"))\n",
        "mgwas_beta_change <- as.numeric(c(\"-50.3\",\"23.8\",\"-39.1\",\"32.1\",\"-16.6\",\"-49.9\",\"1.45E-4\",\"-9.3\",\"34\",\"59.9\",\"73.6\",\"80.3\",\"29.2\",\"-2.66E-4\"))\n",
        "mgwas_p <- as.numeric(c(4.94E-324,2.30E-22,5.20E-10,3.20E-5,2.30E-2,2.88E-1,9.60E-1,5.40E-39,4.10E-8,5.60E-7,7.10E-6,2.30E-1,5.67E-1,9.23E-1))\n",
        "\n",
        "\n",
        "#convert to increase/decrease\n",
        "simu_percent_change[simu_percent_change < 0] <- -1\n",
        "simu_percent_change[simu_percent_change > 0] <- 1\n",
        "mgwas_beta_change[mgwas_beta_change < 0] <- -1\n",
        "mgwas_beta_change[mgwas_beta_change > 1] <- 1\n",
        "\n",
        "#keep only p<=1E-4\n",
        "simu_percent_change <- simu_percent_change[mgwas_p <= 1E-4]\n",
        "mgwas_beta_change <- mgwas_beta_change[mgwas_p <= 1E-4]\n",
        "\n",
        "kendall_result_with_p0.0001 <- cor.test(simu_percent_change,mgwas_beta_change,method=\"kendall\")\n",
        "\n",
        "print(kendall_result_with_p0.0001)\n"
      ]
    }
  ]
}